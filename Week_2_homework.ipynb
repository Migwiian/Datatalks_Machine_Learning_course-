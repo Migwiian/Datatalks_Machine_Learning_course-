{
 "cells": [
  {
   "cell_type": "code",
   "execution_count": 1,
   "id": "c4660e4c-825a-4648-81db-debda4698e9d",
   "metadata": {},
   "outputs": [],
   "source": [
    "import pandas as pd"
   ]
  },
  {
   "cell_type": "code",
   "execution_count": 2,
   "id": "8e929493-2b26-4173-a843-65aeeeb5b649",
   "metadata": {},
   "outputs": [],
   "source": [
    "df = pd.read_csv(\n",
    "    \"https://raw.githubusercontent.com/alexeygrigorev/datasets/master/car_fuel_efficiency.csv\"\n",
    ")"
   ]
  },
  {
   "cell_type": "code",
   "execution_count": 3,
   "id": "affe2eaf-daee-42b5-a4a2-9318a17046d1",
   "metadata": {},
   "outputs": [],
   "source": [
    "cols_needed = [\n",
    "    \"engine_displacement\",\n",
    "    \"horsepower\",\n",
    "    \"vehicle_weight\",\n",
    "    \"model_year\",\n",
    "    \"fuel_efficiency_mpg\",\n",
    "]\n",
    "df = df[cols_needed]"
   ]
  },
  {
   "cell_type": "markdown",
   "id": "e29da5d3-3b26-4d49-8cc8-1bdb832467a0",
   "metadata": {},
   "source": [
    "# Question 1\n",
    "## There's one column with missing values. What is it?"
   ]
  },
  {
   "cell_type": "code",
   "execution_count": 4,
   "id": "30c3e1b9-1e14-4fb6-b0bc-1cab0f0125c5",
   "metadata": {},
   "outputs": [
    {
     "name": "stdout",
     "output_type": "stream",
     "text": [
      "engine_displacement      0\n",
      "horsepower             708\n",
      "vehicle_weight           0\n",
      "model_year               0\n",
      "fuel_efficiency_mpg      0\n",
      "dtype: int64\n"
     ]
    }
   ],
   "source": [
    "print(df.isna().sum())"
   ]
  },
  {
   "cell_type": "markdown",
   "id": "a7b2a215-f332-4c45-93d3-53ae9c4d597a",
   "metadata": {},
   "source": [
    "# Question 2\n",
    "## What's the median (50% percentile) for variable 'horsepower'?"
   ]
  },
  {
   "cell_type": "code",
   "execution_count": 15,
   "id": "682b4a0f-beb4-446f-86fc-91a36bedd321",
   "metadata": {},
   "outputs": [
    {
     "name": "stdout",
     "output_type": "stream",
     "text": [
      "149.0\n"
     ]
    }
   ],
   "source": [
    "print(df['horsepower'].median())"
   ]
  },
  {
   "cell_type": "markdown",
   "id": "78b76e2f-8da3-4df0-85fa-f14e654570d9",
   "metadata": {},
   "source": [
    "# Question 3\n",
    "We need to deal with missing values for the column from Q1.\n",
    "We have two options: fill it with 0 or with the mean of this variable.\n",
    "Try both options. For each, train a linear regression model without regularization using the code from the lessons.\n",
    "For computing the mean, use the training only!\n",
    "Use the validation dataset to evaluate the models and compare the RMSE of each option.\n",
    "Round the RMSE scores to 2 decimal digits using round(score, 2)\n",
    "Which option gives better RMSE?"
   ]
  },
  {
   "cell_type": "code",
   "execution_count": 7,
   "id": "7516876b-543e-4513-abd6-23cd5535f118",
   "metadata": {},
   "outputs": [
    {
     "name": "stdout",
     "output_type": "stream",
     "text": [
      "train: 5822 val: 1941 test: 1941\n"
     ]
    }
   ],
   "source": [
    "from sklearn.model_selection import train_test_split\n",
    "\n",
    "X = df.drop(columns='fuel_efficiency_mpg')\n",
    "y = df.fuel_efficiency_mpg\n",
    "\n",
    "\n",
    "X_train, X_temp, y_train, y_temp = train_test_split(\n",
    "    X, y, test_size=0.4, random_state=42)\n",
    "\n",
    "X_val, X_test, y_val, y_test = train_test_split(\n",
    "    X_temp, y_temp, test_size=0.5, random_state=42)\n",
    "\n",
    "print(\"train:\", len(X_train),\n",
    "      \"val:\", len(X_val),\n",
    "      \"test:\", len(X_test))"
   ]
  },
  {
   "cell_type": "code",
   "execution_count": 12,
   "id": "b8d126ac-a0d9-42d8-b20b-d5f32724c09f",
   "metadata": {
    "collapsed": true,
    "jupyter": {
     "outputs_hidden": true
    },
    "scrolled": true
   },
   "outputs": [
    {
     "name": "stdout",
     "output_type": "stream",
     "text": [
      "zero RMSE: 0.517291936381243\n",
      "mean RMSE: 0.46035791011349964\n",
      "mean\n"
     ]
    }
   ],
   "source": [
    "import numpy as np\n",
    "from sklearn.linear_model import LinearRegression\n",
    "from sklearn.metrics import mean_squared_error\n",
    "\n",
    "def rmse(y_true, y_pred):\n",
    "    return np.sqrt(mean_squared_error(y_true, y_pred))\n",
    "\n",
    "mean_hp = X_train.horsepower.mean()\n",
    "\n",
    "def prepare_X(df, fill_value):\n",
    "    df = df.copy()\n",
    "    df.horsepower = df.horsepower.fillna(fill_value)\n",
    "    return np.column_stack([np.ones(len(df)), df.values])\n",
    "\n",
    "strategies = {0: \"zero\", mean_hp: \"mean\"}\n",
    "results = {}\n",
    "\n",
    "for val, name in strategies.items():\n",
    "    X_tr = prepare_X(X_train, val)\n",
    "    X_va = prepare_X(X_val, val)\n",
    "    model = LinearRegression(fit_intercept=False)\n",
    "    model.fit(X_tr, y_train)\n",
    "    y_pred = model.predict(X_va)\n",
    "    score  = rmse(y_val, y_pred)\n",
    "    results[name] = round(score, 2)\n",
    "    print(name, \"RMSE:\", score)\n",
    "\n",
    "print(min(results, key=results.get))"
   ]
  },
  {
   "cell_type": "code",
   "execution_count": 26,
   "id": "40a02b83-303d-403c-8ed9-48e5c8ffd5ef",
   "metadata": {},
   "outputs": [
    {
     "name": "stdout",
     "output_type": "stream",
     "text": [
      "r=    0  RMSE=0.52\n",
      "r= 0.01  RMSE=0.52\n",
      "r=  0.1  RMSE=0.52\n",
      "r=    1  RMSE=0.52\n",
      "r=    5  RMSE=0.53\n",
      "r=   10  RMSE=0.53\n",
      "r=  100  RMSE=0.53\n"
     ]
    }
   ],
   "source": [
    "rs = [0, 0.01, 0.1, 1, 5, 10, 100]\n",
    "scores = {}\n",
    "\n",
    "def train_linear_regression_reg(X, y, r=0.001):\n",
    "    ones = np.ones(X.shape[0])\n",
    "    X = np.column_stack([ones, X])\n",
    "    XTX = X.T.dot(X) + (r + 1e-8) * np.eye(X.shape[1])\n",
    "    w_full = np.linalg.inv(XTX).dot(X.T).dot(y)\n",
    "    return w_full[0], w_full[1:]\n",
    "\n",
    "def prepare_X(df, fill_value=0):\n",
    "    df = df.copy()\n",
    "    df['horsepower'] = df['horsepower'].fillna(fill_value)\n",
    "    return np.column_stack([np.ones(len(df)), df.values])\n",
    "\n",
    "X_train_z = prepare_X(X_train)\n",
    "X_val_z   = prepare_X(X_val)\n",
    "\n",
    "for r in rs:\n",
    "    w0, w = train_linear_regression_reg(X_train_z, y_train, r=r)\n",
    "    y_pred = X_val_z.dot(w) + w0\n",
    "    score  = np.sqrt(np.mean((y_val - y_pred)**2))\n",
    "    scores[r] = round(score, 2)\n",
    "    print(f\"r={r:>5}  RMSE={scores[r]}\")\n",
    "\n",
    "best_r = min(scores, key=scores.get)\n",
    "\n",
    "# -----------------------------------------"
   ]
  },
  {
   "cell_type": "code",
   "execution_count": 30,
   "id": "deae08a8-4e08-40f4-91d4-971a7b3164bd",
   "metadata": {},
   "outputs": [
    {
     "name": "stdout",
     "output_type": "stream",
     "text": [
      "RMSE list: [np.float64(0.518), np.float64(0.517), np.float64(0.52), np.float64(0.522), np.float64(0.511), np.float64(0.515), np.float64(0.515), np.float64(0.536), np.float64(0.519), np.float64(0.52)]\n",
      "Std: 0.006\n"
     ]
    }
   ],
   "source": [
    "seeds = range(10)\n",
    "rmse_scores = []\n",
    "\n",
    "for seed in seeds:\n",
    "    X_tr, X_temp, y_tr, y_temp = train_test_split(\n",
    "        X, y, test_size=0.4, random_state=seed)\n",
    "    X_va, X_te, y_va, y_te = train_test_split(\n",
    "        X_temp, y_temp, test_size=0.5, random_state=seed)\n",
    "    \n",
    "    X_tr_z = prepare_X(X_tr)\n",
    "    X_va_z = prepare_X(X_va)\n",
    "    \n",
    "\n",
    "    w0, w = train_linear_regression_reg(X_tr_z, y_tr, r=0)\n",
    "    y_pred = X_va_z.dot(w) + w0\n",
    "    \n",
    "    rmse_scores.append(np.sqrt(np.mean((y_va - y_pred)**2)))\n",
    "\n",
    "std_rmse = round(np.std(rmse_scores), 3)\n",
    "print(\"RMSE list:\", [round(s, 3) for s in rmse_scores])\n",
    "print(\"Std:\", std_rmse)"
   ]
  },
  {
   "cell_type": "code",
   "execution_count": 29,
   "id": "27ba47d0-e8c8-431c-b701-463b8d58f471",
   "metadata": {},
   "outputs": [
    {
     "name": "stdout",
     "output_type": "stream",
     "text": [
      "Test RMSE: 0.523\n"
     ]
    }
   ],
   "source": [
    "# ----------  Q6  final test RMSE ----------\n",
    "np.random.seed(9)                       # lock seed 9 as required\n",
    "X_full = pd.concat([X_train, X_val])    # merge train + val\n",
    "y_full = pd.concat([y_train, y_val])\n",
    "\n",
    "# impute 0, build matrix\n",
    "X_full_z = prepare_X(X_full)\n",
    "X_test_z = prepare_X(X_test)\n",
    "\n",
    "# train with r = 0.001\n",
    "w0, w = train_linear_regression_reg(X_full_z, y_full, r=0.001)\n",
    "\n",
    "# predict on TEST set\n",
    "y_pred = X_test_z.dot(w) + w0\n",
    "test_rmse = round(np.sqrt(np.mean((y_test - y_pred)**2)), 3)\n",
    "\n",
    "print(\"Test RMSE:\", test_rmse)"
   ]
  },
  {
   "cell_type": "code",
   "execution_count": null,
   "id": "74413ad1-048e-40ca-89b5-512a38a7e114",
   "metadata": {},
   "outputs": [],
   "source": []
  }
 ],
 "metadata": {
  "kernelspec": {
   "display_name": "Python 3 (ipykernel)",
   "language": "python",
   "name": "python3"
  },
  "language_info": {
   "codemirror_mode": {
    "name": "ipython",
    "version": 3
   },
   "file_extension": ".py",
   "mimetype": "text/x-python",
   "name": "python",
   "nbconvert_exporter": "python",
   "pygments_lexer": "ipython3",
   "version": "3.12.9"
  }
 },
 "nbformat": 4,
 "nbformat_minor": 5
}
