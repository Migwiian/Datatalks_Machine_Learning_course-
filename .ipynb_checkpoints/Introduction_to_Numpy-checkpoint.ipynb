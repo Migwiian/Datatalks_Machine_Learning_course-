{
 "cells": [
  {
   "cell_type": "markdown",
   "metadata": {},
   "source": [
    "# 📘 Introduction to NumPy for the Everyday Scientist\n",
    "\n",
    "NumPy is the *de-facto* standard for numerical work in Python.  \n",
    "This notebook is a **practical crash-course** that you can keep as a reference.\n",
    "\n",
    "Target audience:  \n",
    "- You know basic Python (lists, loops, functions)  \n",
    "- You want to manipulate numbers, images, spectra, time-series, …  \n",
    "- You like copy-pasteable snippets with explanations\n",
    "\n",
    "---\n",
    "### 🚀 How to use this notebook\n",
    "1. Run every code cell top-to-bottom (`Shift-Enter`).  \n",
    "2. When you see 💡, try to modify the code and break it – that is how you learn.  \n",
    "3. Keep it in your `~/docs` folder; it doubles as cheat-sheet."
   ]
  },
  {
   "cell_type": "markdown",
   "metadata": {},
   "source": [
    "## 0. Import convention – always the same"
   ]
  },
  {
   "cell_type": "code",
   "execution_count": 9,
   "metadata": {},
   "outputs": [],
   "source": [
    "import numpy as np\n",
    "import matplotlib.pyplot as plt  # optional, for quick visual checks\n",
    "\n",
    "# Jupyter magic so plots appear inline\n",
    "%matplotlib inline"
   ]
  },
  {
   "cell_type": "markdown",
   "metadata": {},
   "source": [
    "## 1. Array creation – the 5 patterns you will actually use"
   ]
  },
  {
   "cell_type": "code",
   "execution_count": 14,
   "metadata": {},
   "outputs": [
    {
     "name": "stdout",
     "output_type": "stream",
     "text": [
      "[0. 0. 0. 0. 0.]\n"
     ]
    }
   ],
   "source": [
    "# ---------- 1-D ----------\n",
    "zeros = np.zeros(5)          # shape=5  → 1-D vector length 5\n",
    "print(zeros)"
   ]
  },
  {
   "cell_type": "code",
   "execution_count": 15,
   "metadata": {},
   "outputs": [
    {
     "name": "stdout",
     "output_type": "stream",
     "text": [
      "[[1. 1. 1. 1.]\n",
      " [1. 1. 1. 1.]\n",
      " [1. 1. 1. 1.]]\n"
     ]
    }
   ],
   "source": [
    "# ---------- 2-D ----------\n",
    "# Shape tuple: (rows, columns)\n",
    "ones = np.ones((3, 4))       # 3 rows, 4 columns  →  3×4 matrix\n",
    "print(ones)"
   ]
  },
  {
   "cell_type": "code",
   "execution_count": 16,
   "metadata": {},
   "outputs": [
    {
     "name": "stdout",
     "output_type": "stream",
     "text": [
      "[[7.3 7.3 7.3]\n",
      " [7.3 7.3 7.3]]\n"
     ]
    }
   ],
   "source": [
    "# ---------- Constant fill ----------\n",
    "# First argument is always the *shape* tuple, second is the *fill* value\n",
    "full = np.full((2, 3), 7.3)  # 2 rows, 3 columns, every entry 7.3\n",
    "print(full)"
   ]
  },
  {
   "cell_type": "code",
   "execution_count": 19,
   "metadata": {},
   "outputs": [
    {
     "name": "stdout",
     "output_type": "stream",
     "text": [
      "[1. 2. 3. 4.]\n"
     ]
    }
   ],
   "source": [
    "# 1.2 Convert existing Python data\n",
    "py_list = [1, 2, 3, 4]\n",
    "arr     = np.array(py_list, dtype=float)  # dtype is optional but explicit\n",
    "print(arr)"
   ]
  },
  {
   "cell_type": "code",
   "execution_count": 23,
   "metadata": {},
   "outputs": [
    {
     "name": "stdout",
     "output_type": "stream",
     "text": [
      "[0 2 4 6 8]\n"
     ]
    }
   ],
   "source": [
    "# 1.3 Ranges (like built-in range, but returns array)\n",
    "rng = np.arange(0, 10, 2)     # start, stop (exclusive), step\n",
    "print(rng)"
   ]
  },
  {
   "cell_type": "code",
   "execution_count": 28,
   "metadata": {
    "scrolled": true
   },
   "outputs": [
    {
     "name": "stdout",
     "output_type": "stream",
     "text": [
      "[0. 1.]\n"
     ]
    }
   ],
   "source": [
    "# 1.4 Linearly spaced values (excellent for plotting axes)\n",
    "x = np.linspace(0, 1, 2)      # 5 numbers between 0 and 1 *inclusive*\n",
    "print(x)"
   ]
  },
  {
   "cell_type": "code",
   "execution_count": 30,
   "metadata": {},
   "outputs": [
    {
     "name": "stdout",
     "output_type": "stream",
     "text": [
      "[1.e-03 1.e-02 1.e-01 1.e+00 1.e+01 1.e+02 1.e+03]\n"
     ]
    }
   ],
   "source": [
    "# 1.5 Log-spaced (common in engineering / chemistry)\n",
    "logx = np.logspace(-3, 3, 7)  # 10^-3 … 10^3\n",
    "print(logx)"
   ]
  },
  {
   "cell_type": "markdown",
   "metadata": {},
   "source": [
    "## 2. Random numbers – reproducible science"
   ]
  },
  {
   "cell_type": "code",
   "execution_count": 56,
   "metadata": {},
   "outputs": [],
   "source": [
    "def seed():\n",
    "    \"\"\"\n",
    "    Sets a global random seed for NumPy to ensure reproducibility.\n",
    "\n",
    "    This function makes any subsequent 'random' operations from NumPy\n",
    "    produce the same sequence of numbers every time the code is run.\n",
    "    This is critical for debugging, sharing notebooks, and getting\n",
    "    consistent results in machine learning experiments.\n",
    "\n",
    "    Args:\n",
    "        seed_value (int): The seed value. Any integer will do. The same\n",
    "                          integer will always produce the same sequence.\n",
    "                          42 is a common, arbitrary choice.\n",
    "    \"\"\"\n",
    "    np.random.seed(42)\n",
    "seed()"
   ]
  },
  {
   "cell_type": "code",
   "execution_count": 42,
   "metadata": {
    "scrolled": true
   },
   "outputs": [
    {
     "name": "stdout",
     "output_type": "stream",
     "text": [
      "[[0.91694205 0.77629048 0.13050126]\n",
      " [0.56541997 0.44225228 0.79721107]\n",
      " [0.72423255 0.69040572 0.34054484]]\n"
     ]
    }
   ],
   "source": [
    "# --- 1. Uniform Distribution ---\n",
    "# Generate numbers from a uniform distribution over the interval [0, 1).\n",
    "# \"Uniform\" means every number in this range has an equal chance of being picked.\n",
    "# The interval [0, 1) means it includes 0 but goes up to (but not including) 1.\n",
    "# The arguments (3, 3) specify the shape of the resulting array: 3 rows, 3 columns.\n",
    "a = np.random.rand(3, 3)\n",
    "print(a)"
   ]
  },
  {
   "cell_type": "code",
   "execution_count": 43,
   "metadata": {
    "scrolled": true
   },
   "outputs": [
    {
     "data": {
      "text/plain": [
       "array([-4.60017161e-01, -9.52558123e-01, -3.91723706e-02, -6.25550860e-02,\n",
       "       -1.07853707e+00, -8.94937354e-01, -9.73231775e-01, -9.63715068e-01,\n",
       "       -3.88097907e-01, -1.38898514e+00, -6.91374497e-01,  1.04513455e+00,\n",
       "        8.23309452e-01, -1.04987924e+00,  9.58204917e-01, -1.96643927e+00,\n",
       "        2.42914432e+00,  1.30031319e+00, -5.59731912e-01,  3.82426562e-01,\n",
       "       -1.40091933e+00,  6.04427899e-02, -1.83663033e-01, -8.34763389e-01,\n",
       "       -4.68557486e-01, -5.66987476e-01, -1.13173672e+00, -8.58147246e-01,\n",
       "       -1.44184443e+00,  8.57330766e-01, -9.32112746e-01, -1.22202087e+00,\n",
       "        8.41504680e-01,  3.69620354e-01,  8.04501056e-01,  9.16083224e-01,\n",
       "        1.93745490e+00, -1.56039767e-01, -1.45760768e+00,  2.71037801e-01,\n",
       "       -6.69004623e-01, -9.57505283e-01,  9.99251722e-02,  8.65752733e-01,\n",
       "       -8.35994842e-01,  1.27438809e+00, -9.89613959e-01, -2.43903221e-01,\n",
       "        3.86307882e-01, -3.87899209e-01, -1.77600234e+00,  9.27407492e-01,\n",
       "       -6.23464340e-01,  7.44898449e-01, -1.26414414e+00, -1.09343658e+00,\n",
       "        8.62433410e-01,  3.40508093e-01, -4.38585711e-01,  3.55031598e-01,\n",
       "       -9.54039136e-01,  1.10259117e-01,  1.28553923e-01, -3.73781605e-01,\n",
       "       -8.35285706e-01,  7.02485782e-02, -5.49811433e-02, -4.65822079e-01,\n",
       "       -1.03381447e+00,  1.24770493e-02, -4.63322365e-01, -1.03465762e+00,\n",
       "        4.35298108e-02,  1.60830547e+00, -3.66827666e-01,  1.49777654e+00,\n",
       "        2.11433171e+00, -9.53418902e-01,  9.04420820e-03,  2.10373192e+00,\n",
       "       -1.21079961e-01,  3.68121458e-02, -1.67000547e+00, -5.31661900e-01,\n",
       "        5.55588685e-01,  2.42928264e+00, -1.96006833e-01, -1.66262632e+00,\n",
       "       -1.40524919e+00, -3.57896859e-02,  1.17720680e+00,  6.37353683e-01,\n",
       "        4.60255864e-01,  1.30914439e+00, -7.20229088e-01,  1.90947200e-02,\n",
       "       -5.20382120e-01, -2.71455735e-01, -1.00626935e+00, -3.43976071e-01,\n",
       "       -2.77155662e-02, -3.71471500e-01, -1.61061503e-01,  4.05040543e-01,\n",
       "        1.23869577e+00,  1.31115587e+00,  7.61421767e-01, -1.25998148e+00,\n",
       "       -3.60409986e-01, -2.74285031e-01, -6.57149831e-01,  3.42351179e-01,\n",
       "       -1.59432849e+00,  1.69356647e+00,  1.19522067e+00,  4.78202262e-01,\n",
       "       -6.21093299e-02,  1.22883930e+00,  6.89404937e-01,  1.10663778e+00,\n",
       "       -5.90520823e-02,  1.78931309e+00,  1.16688788e+00,  5.09536295e-01,\n",
       "        1.25597292e+00, -4.19161942e-01, -1.16750036e+00,  3.21550513e-01,\n",
       "       -5.70904458e-02, -1.97717342e-01,  1.21631204e+00,  1.67139213e-01,\n",
       "        2.63569074e-01, -3.27052559e-01,  8.81123139e-01,  7.01875781e-01,\n",
       "        8.73659677e-01, -4.97263967e-01,  1.30408846e+00,  1.83876842e+00,\n",
       "        8.42038397e-01, -8.09288287e-01, -8.02202284e-01, -3.75376956e-01,\n",
       "       -5.64377214e-01, -7.10926257e-02,  6.32442466e-01,  2.89952441e-01,\n",
       "        2.02289056e-01, -2.41202750e-01, -7.38459272e-02,  7.96575508e-01,\n",
       "       -2.01195803e+00, -1.13904085e-02,  2.87987595e-01,  7.83583069e-01,\n",
       "       -1.01004594e+00, -1.06290968e+00,  5.83954995e-01, -1.90445224e+00,\n",
       "        1.33218911e+00,  2.26591991e-01,  1.55872121e+00, -1.08707238e+00,\n",
       "       -4.36359469e-01, -2.40786833e+00, -7.95689763e-01, -1.83846881e-01,\n",
       "       -1.96270758e+00, -3.94626812e-01, -1.98734018e+00, -2.57460185e-01,\n",
       "        1.14711193e+00, -3.49797501e-02,  1.65820737e+00,  7.86292563e-01,\n",
       "        1.34814785e+00, -7.64945241e-01, -7.89141628e-01,  3.45613416e-01,\n",
       "       -1.57770209e+00,  4.71143750e-01, -3.23919817e-01,  1.32999684e+00,\n",
       "        6.79512254e-01,  1.09670643e+00, -7.54206081e-01,  1.04821027e+00,\n",
       "        1.44471249e+00, -3.87138234e-02, -7.39350619e-01, -7.21787201e-01,\n",
       "        1.23901299e+00,  2.68434574e+00, -9.81645070e-01, -1.05852005e+00,\n",
       "        9.21414181e-01, -7.53913529e-01,  1.01835538e+00,  4.65346174e-01,\n",
       "       -2.39773025e-02,  4.41271535e-01,  3.80198369e-01, -1.79606498e-01,\n",
       "       -1.75636103e+00,  1.78650729e-01,  1.57306037e+00, -1.60876866e+00,\n",
       "       -9.65785020e-01,  4.26826975e-01,  3.85918627e-02,  4.11182160e-01,\n",
       "       -6.99318208e-01,  1.16245829e+00,  4.69005657e-02,  6.96985522e-01,\n",
       "        3.20277411e-01,  1.75494968e-01,  6.26833657e-01,  1.86487954e-01,\n",
       "       -1.19019903e+00,  1.08735683e+00,  8.18127286e-01, -2.10685039e+00,\n",
       "       -6.54200285e-01,  1.04236046e+00, -1.82692855e+00,  9.43566882e-01,\n",
       "       -1.41222536e-01,  1.34028257e+00, -1.14678908e-03, -7.22067993e-01,\n",
       "        3.08085661e-01, -3.03854895e-02, -8.10851134e-01,  2.21834348e+00,\n",
       "       -9.71098182e-01, -2.24295538e+00,  1.58169897e+00, -5.83563472e-01,\n",
       "       -2.96773261e-01, -3.57906065e-01, -5.69651434e-01, -7.66192471e-01,\n",
       "       -9.96817302e-01,  6.47597617e-02, -4.01987558e-01,  7.30362190e-01,\n",
       "        4.82694052e-01, -9.27512194e-01,  1.08521276e-01, -4.17838324e-01,\n",
       "       -9.91660443e-01,  6.89431571e-01, -1.21325279e-01, -4.07550020e-01,\n",
       "       -8.55567236e-01, -1.02793676e+00,  1.98876802e+00,  3.34118650e-01,\n",
       "       -1.09112904e+00,  2.87865898e-01,  1.06201618e+00,  1.67517613e-01,\n",
       "        1.37402134e+00, -1.54281314e+00, -1.99132205e+00,  2.60517422e-01,\n",
       "        2.76496143e-01, -3.33950018e+00, -6.23576091e-01, -1.00866231e+00,\n",
       "       -1.39194624e+00, -1.01104176e+00,  5.95787802e-01, -1.01740502e+00,\n",
       "       -9.83122135e-01, -1.61880531e+00,  1.26890964e+00,  4.34632365e-01,\n",
       "       -2.49235620e+00, -9.82240079e-01,  5.28517884e-01,  1.28139255e+00,\n",
       "        8.40838759e-01, -3.55682910e-01, -1.93137686e+00,  8.70248994e-01,\n",
       "       -2.96896851e-01,  6.88620146e-02, -1.77420438e-01, -1.35552950e+00,\n",
       "        3.64250212e-01,  2.26459031e-01, -4.25788843e-01,  4.71105800e-01,\n",
       "       -1.37399955e+00, -2.69002776e-01,  2.61274729e-02, -1.73492763e+00,\n",
       "       -5.70966108e-02,  7.33645147e-01, -3.03230924e-01, -3.41149025e-02,\n",
       "        5.62344039e-01, -3.87800109e-01, -2.97797400e-01, -1.17670351e+00,\n",
       "       -1.49367773e-02, -3.34848484e-01,  4.99089795e-01,  5.63459954e-01,\n",
       "        7.91209039e-01, -5.08260351e-01, -2.17658109e+00,  7.41639746e-01,\n",
       "        4.31120964e-01, -6.35291605e-01,  5.54940200e-01, -1.44858980e+00,\n",
       "        1.03024021e+00, -3.33624552e-01, -8.28927613e-01, -6.21701556e-01,\n",
       "       -2.31484986e-01, -1.20120733e-02,  4.82802804e-02, -4.29607444e-01,\n",
       "        2.00239573e-01,  8.27927433e-03, -6.47572996e-01, -7.98190624e-01,\n",
       "        6.08365543e-01,  5.24326036e-01,  5.71363552e-02,  9.24195466e-01,\n",
       "       -1.96132766e+00, -5.64394642e-01, -1.15631711e+00,  2.25627227e+00,\n",
       "        7.13219820e-01, -7.90619837e-02,  7.84990579e-01,  1.11627566e+00,\n",
       "        1.10563169e+00,  9.21703485e-01, -2.62540323e-01, -5.01365419e-01,\n",
       "       -9.62189180e-01,  5.02447267e-01, -1.58935735e-01, -4.18471031e-01,\n",
       "       -4.70661362e-01,  1.45019263e+00,  9.52680413e-01,  1.83039386e+00,\n",
       "        5.29016300e-01,  5.69544403e-02, -2.54024507e-02, -1.02030155e+00,\n",
       "       -1.26141899e+00,  5.07341022e-01, -9.34678710e-01,  2.11457754e-01,\n",
       "        1.11546668e+00, -6.65453933e-01,  2.01048163e+00, -9.90695121e-01,\n",
       "        9.90194756e-01,  4.24756181e-01,  1.19409525e+00, -1.11619761e+00,\n",
       "        2.30702092e+00, -1.78775084e-01,  6.76647939e-01,  1.44448749e+00,\n",
       "       -6.04662067e-01,  8.25726363e-01, -7.71469645e-01,  1.39696158e+00,\n",
       "       -7.60180731e-01,  3.85069825e-02,  3.06120701e-01,  7.84299770e-01,\n",
       "        1.96847631e+00, -4.51968990e-01,  1.13873477e+00,  1.97025845e+00,\n",
       "        1.65733361e-01, -5.50132750e-01, -1.73003374e+00,  1.88327577e+00,\n",
       "       -2.44444330e-01, -1.00135850e+00, -1.35833008e+00, -1.00321419e+00,\n",
       "        9.19705293e-01,  1.05786853e+00,  6.52121871e-01,  1.32337827e-01,\n",
       "       -1.24552059e+00, -7.29940946e-01, -1.10661941e+00,  5.72821006e-01,\n",
       "       -1.06331248e+00, -7.14246111e-01, -1.83487243e-01, -1.66980015e+00,\n",
       "        4.67714308e-02, -1.07152881e-01,  1.18420915e+00, -8.19865545e-01,\n",
       "       -1.29919552e+00, -3.74059650e-01, -1.09809129e+00,  3.91545918e-02,\n",
       "       -1.85993486e+00, -6.05345403e-01, -9.28371670e-01,  5.67757077e-01,\n",
       "       -8.10564710e-01, -1.73609576e+00, -2.01820097e-01,  3.19886140e-01,\n",
       "       -2.71205193e-01, -6.11322779e-01, -6.71562101e-01,  1.12948032e-01,\n",
       "       -8.89448749e-01, -3.28482971e-01,  7.50446571e-01, -1.30132308e+00,\n",
       "       -4.36670197e-02, -1.78898941e+00,  2.27929670e-01, -9.78809211e-01,\n",
       "        1.01959181e+00, -1.47694731e+00,  4.42079037e-01,  1.22113108e+00,\n",
       "       -1.03068940e+00, -8.61884929e-01, -9.44195644e-01, -4.85862688e-01,\n",
       "        5.17421799e-01, -5.67504934e-01, -1.12095823e+00, -2.01875371e+00,\n",
       "        1.60194751e+00,  1.68049563e+00,  5.60237039e-01, -8.10383694e-01,\n",
       "        7.47702115e-01,  9.48706917e-01, -2.54248131e-01,  4.13685440e-02,\n",
       "        1.23176823e+00, -1.64046136e+00,  9.98422823e-01, -3.09153811e-01,\n",
       "       -1.11257830e+00, -1.03030647e+00, -8.64722135e-01, -1.21007072e+00,\n",
       "        1.77138897e+00,  4.91202939e-01,  1.06448275e+00,  5.62368292e-01,\n",
       "        6.12276085e-02,  7.47553234e-02, -3.97512639e-01, -3.15782376e-01,\n",
       "       -1.40810337e+00,  1.08182615e+00, -1.81323329e+00, -1.05861059e+00,\n",
       "        2.01203413e+00,  1.36172883e-01,  1.77710445e-01,  6.37338548e-01,\n",
       "       -1.54033749e+00, -1.39379337e+00, -4.44894347e-01, -9.03360958e-01,\n",
       "       -7.49559650e-02,  4.85549295e-01,  1.38916305e+00,  8.11088340e-01,\n",
       "       -9.94276712e-01, -3.74964078e-01, -6.46945171e-01, -1.01656088e+00,\n",
       "       -1.24417511e+00,  1.66431239e+00,  1.06422432e-02, -2.24230207e-01,\n",
       "        4.84257567e-01,  5.33746104e-01,  1.11882565e+00, -7.43661613e-01,\n",
       "        4.02722217e-01, -9.11173976e-01, -1.90157944e-01,  5.67425672e-02,\n",
       "        1.54483996e-01,  1.10321106e-01,  8.01830983e-01, -5.96988391e-01,\n",
       "        1.81674273e-01, -7.58904840e-01,  2.92075257e+00, -9.12864318e-01,\n",
       "       -7.00652654e-01,  8.82648077e-01, -4.29465144e-01,  8.83046128e-01,\n",
       "        1.53022594e-01, -4.03189267e-01, -7.52755349e-01, -7.88836562e-01,\n",
       "       -3.92321003e-01, -1.74396318e-01, -8.31881243e-01, -1.09232430e-01,\n",
       "       -1.09411529e+00,  7.55901217e-01,  9.47362399e-01, -7.04325190e-01,\n",
       "       -7.60173055e-01,  1.77916807e-01,  1.26536609e+00,  1.48666366e+00,\n",
       "       -1.40274272e+00,  1.00630483e+00, -6.15533379e-02, -4.21897005e-02,\n",
       "        5.04712366e-01, -4.80957470e-01,  1.09670063e+00,  1.42396227e+00,\n",
       "        1.46128428e+00, -1.84391479e+00, -2.29657269e-01, -1.93523058e+00,\n",
       "       -7.65280062e-01, -2.39749887e+00,  4.50266635e-01,  2.19309636e-01,\n",
       "       -4.32601107e-01, -7.91148111e-01,  3.14031624e-01, -1.01142207e+00,\n",
       "       -1.07946211e+00, -1.20241620e+00, -2.03840931e-01, -5.82307570e-01,\n",
       "       -3.84238018e-01,  5.21808740e-01,  9.63296605e-01,  1.45048078e+00,\n",
       "        6.01369780e-02,  3.47589103e-01,  1.88846357e-01, -1.67418570e+00,\n",
       "       -3.69697056e-01, -3.65098223e-01, -5.10812826e-01, -4.09393286e-02,\n",
       "       -2.19480553e-01, -9.86326764e-01, -1.51025954e-01, -6.39050397e-01,\n",
       "       -2.61924273e+00, -1.39706892e+00,  8.89143258e-02,  1.09189131e+00,\n",
       "       -2.42720326e+00, -8.70391634e-01,  4.31453834e-01,  8.78195464e-01,\n",
       "       -4.20113562e-01, -6.82782358e-01,  1.21971075e+00,  7.96092706e-01,\n",
       "        8.58618398e-01, -4.68064002e-01,  1.11369424e+00, -1.94506873e+00,\n",
       "        1.13123009e+00, -6.65321534e-02,  1.28934191e-01, -9.45252658e-01,\n",
       "       -1.81402635e+00,  1.07704148e-01,  5.51394550e-01,  7.02692385e-01,\n",
       "        5.94778596e-01,  3.68161695e-01, -9.23786436e-01,  7.67476073e-01,\n",
       "       -1.03562235e+00,  1.10706424e+00, -8.39818688e-02, -5.07092199e-02,\n",
       "        8.65926618e-01,  1.00146863e+00,  7.70638679e-01, -8.20457850e-01,\n",
       "        7.62669550e-01, -8.14789610e-01,  7.87901402e-01, -1.42516320e+00,\n",
       "       -9.36800619e-02, -8.20891140e-01,  8.69935652e-01,  1.11516677e+00,\n",
       "        1.98996514e-01,  1.66109144e-01,  7.04177122e-01,  1.12111488e+00,\n",
       "        3.73111747e-02, -4.99675325e-01,  6.47267486e-01, -1.85872737e+00,\n",
       "        9.09651540e-01, -7.10186949e-01, -2.40227866e-01,  9.16051323e-01,\n",
       "       -4.15509516e-01,  6.47408879e-01,  1.13890875e+00,  1.10033090e-01,\n",
       "        3.11448156e-01, -1.19435874e-01,  1.15597997e-01, -1.11640478e+00,\n",
       "       -2.93738087e-01, -1.28820561e+00, -8.98767225e-01, -2.00294902e+00,\n",
       "        2.63928154e-01,  1.69160217e+00, -4.56105735e-01,  9.65133591e-01,\n",
       "        1.12569282e+00, -1.19913723e+00, -9.83793918e-01,  9.90798088e-01,\n",
       "       -9.23413630e-02, -1.29078887e+00, -6.36859587e-01,  4.19660245e-01,\n",
       "       -7.93936674e-01, -2.77453687e+00, -3.22013177e-01, -2.40993194e-01,\n",
       "        9.22643414e-03,  1.25888337e+00,  5.35227979e-02,  2.42937354e-01,\n",
       "        1.05553697e+00,  1.03440158e-02,  2.13652075e+00, -1.26370829e+00,\n",
       "       -9.34147713e-01,  6.13958408e-01,  1.25431353e+00, -2.00794997e-01,\n",
       "       -1.01062117e+00,  1.76098959e+00, -7.92368895e-01,  3.39054451e-01,\n",
       "        1.31415181e+00, -4.41605223e-01, -6.22127837e-01, -5.53687742e-01,\n",
       "        9.01551257e-01,  1.06014771e+00,  3.37253918e-02,  1.88308225e+00,\n",
       "        3.19665593e-02,  1.29233321e+00, -4.32001604e-01,  2.33375653e+00,\n",
       "        1.57013142e+00, -1.27974636e-01,  1.43454021e+00,  1.38398049e+00,\n",
       "        1.55304108e+00, -2.48198634e+00,  7.19351449e-01,  5.42298769e-01,\n",
       "        4.71073281e-01,  2.18346433e-01,  2.47811280e-01,  1.28314031e+00,\n",
       "        5.39473374e-01,  2.16906444e-01,  1.13938101e+00,  4.18026178e-01,\n",
       "        5.13568427e-01,  1.86703711e+00, -4.34480713e-01, -1.51571034e+00,\n",
       "        7.23635110e-02,  2.14543345e-01,  7.21529029e-01,  1.07315915e-01,\n",
       "        7.55119244e-01,  2.50461668e+00,  8.01514319e-01,  9.77315301e-01,\n",
       "       -1.29531408e-01, -1.38525709e+00, -2.29811159e+00, -5.18680582e-01,\n",
       "       -2.58037166e+00,  5.13549025e-01, -3.82816984e-01, -1.31337487e+00,\n",
       "        1.30874120e-01, -7.38632194e-01,  4.50776254e-01,  7.07626330e-01,\n",
       "       -7.01834163e-01, -2.37281181e-01,  2.14895754e-01, -1.40704221e+00,\n",
       "        2.14807523e-01, -1.43101865e+00,  5.65716980e-01, -4.35163663e-01,\n",
       "       -1.43654273e+00, -5.79973599e-01, -5.37674581e-01,  1.06852088e+00,\n",
       "        1.73304699e-01, -9.56277458e-01,  1.64906629e+00,  6.26490402e-01,\n",
       "       -3.36322369e-01, -1.55383419e+00, -4.24593579e-01, -2.20513085e-01,\n",
       "        3.69032331e-01,  6.07256510e-01,  8.06582095e-01, -1.61146743e+00,\n",
       "        2.08504821e-01, -1.59615825e-01,  2.67797728e+00,  6.46944391e-02,\n",
       "       -6.22653198e-01,  1.10368857e-01, -8.56828801e-03, -1.98903931e+00,\n",
       "        4.08304463e-01, -3.10558091e-01, -2.66912152e-02, -8.73568534e-01,\n",
       "       -1.09391423e+00,  8.78882334e-01,  1.10845666e+00,  4.18098605e-01,\n",
       "       -1.81079760e+00,  4.83063359e-01, -1.79593655e+00, -6.61175635e-01,\n",
       "        8.65558449e-01,  6.57598482e-01,  4.56967365e-01,  1.31290265e+00,\n",
       "        5.60015147e-01, -2.01901923e+00, -3.69530846e-01, -4.16084577e-02,\n",
       "       -1.58741727e-01, -6.17135175e-01, -1.03015613e+00,  2.40074497e+00,\n",
       "       -3.88744825e-01,  2.35160205e+00, -1.14129040e+00,  6.57060069e-01,\n",
       "        2.29641416e-01, -9.21949527e-01, -4.67557110e-01, -1.51300694e-02,\n",
       "       -8.44116617e-01, -2.56140594e-01, -2.36490243e+00,  7.11515990e-01,\n",
       "        1.22715167e+00,  4.54363707e-01,  2.26425813e+00,  6.82096228e-01,\n",
       "        1.14280964e+00,  1.23836283e+00, -2.75101336e+00,  4.23673199e-01,\n",
       "       -1.38293495e+00, -1.18090345e+00, -1.00697327e+00, -3.12715800e-01,\n",
       "        6.50459961e-01,  4.33989825e-01, -1.25813828e-02,  7.22683441e-01,\n",
       "        7.83486322e-01,  4.42624189e-01, -1.72450479e+00, -7.39332789e-01,\n",
       "        2.63278339e-02,  7.33452883e-01, -1.32857966e+00, -1.13451898e-02,\n",
       "       -1.56562446e+00,  1.02591799e+00,  2.42347278e-01, -1.34613604e+00,\n",
       "       -1.35272854e+00,  3.87431872e-01,  1.37479891e+00, -1.09678584e+00,\n",
       "        7.86604109e-01, -5.42237718e-01,  8.23194103e-01,  6.83190910e-01,\n",
       "        1.55299841e-01, -1.83439131e+00,  6.81185650e-01,  5.02019271e-01,\n",
       "        4.10429753e-01,  1.95674063e-01, -8.78786888e-01,  1.08296277e+00,\n",
       "        8.98139721e-01, -1.07542278e+00,  1.31429501e+00,  1.31669435e-01,\n",
       "        1.29136953e-01, -1.76355336e-01, -7.79933966e-02,  1.37089919e+00,\n",
       "        1.03307498e+00,  1.01184708e+00,  1.84564353e-01,  8.89171724e-01,\n",
       "       -8.34313074e-01,  5.83442978e-01, -1.53488032e-01, -2.05980499e+00,\n",
       "       -1.58610166e+00, -6.62978780e-01,  4.15153984e-01, -6.62079788e-01,\n",
       "       -5.91116737e-01,  7.63260922e-01, -5.55012119e-01,  1.33080724e+00,\n",
       "        1.16512374e+00,  2.18813206e-02,  7.53461452e-01,  6.17240454e-01,\n",
       "       -2.45665276e-01,  8.61634663e-01,  1.00890206e+00, -9.52435231e-01,\n",
       "        1.53548638e-01,  1.42503823e-01,  8.49619467e-01, -4.43858350e-01,\n",
       "       -5.97760333e-01,  1.68999660e-01,  1.18135922e+00, -1.19937712e+00,\n",
       "       -1.02480615e+00, -5.20504908e-01, -3.42577072e-01, -1.76558280e+00,\n",
       "        1.49819529e+00, -1.30306591e-01, -2.80104524e-01,  1.62263754e+00,\n",
       "        7.17793495e-01, -5.35421877e-01,  1.64607845e-01, -4.17371324e-02,\n",
       "        1.44835086e+00, -1.67424202e-01, -1.44205954e+00, -1.87722411e+00,\n",
       "        1.47516135e+00, -7.88614698e-01,  6.70211656e-01,  7.17634307e-02,\n",
       "       -4.16654788e-01, -2.59847417e-01,  1.58337788e+00, -1.44806343e+00,\n",
       "       -3.86455231e-01,  9.06565761e-01, -1.28314501e+00,  1.31728281e+00,\n",
       "        8.92249716e-01,  2.71795685e-01, -5.03156904e-01, -1.41156616e+00,\n",
       "        7.07045894e-01,  2.74864493e+00,  1.45892536e-01, -1.82604541e+00,\n",
       "        4.57516490e-01,  8.60262971e-01, -9.17852432e-01, -6.45511926e-01,\n",
       "       -7.47378229e-01, -5.31363867e-01, -1.72163114e-01, -8.60901108e-01,\n",
       "       -1.23583774e+00,  1.74375386e-01, -1.82662040e-01, -4.36241770e-01,\n",
       "        8.31897167e-02, -1.52017571e+00,  2.63202923e-01, -4.15688200e-01,\n",
       "        2.39489468e-01,  3.99649105e-01,  1.13115128e+00,  1.02954417e-01,\n",
       "        1.06671883e+00, -3.21913141e-01, -2.74177513e-01, -9.09281728e-02,\n",
       "        7.74124901e-01,  6.30959077e-01,  1.35071880e-01, -1.22773534e+00,\n",
       "        6.13059176e-01, -8.61404635e-01, -9.15897394e-01, -1.13848509e+00,\n",
       "       -8.31687108e-02,  1.21172430e+00, -9.65360544e-01,  1.67857595e+00,\n",
       "        9.09810222e-01, -1.46460206e+00, -3.82775182e-01, -1.04025027e+00,\n",
       "        6.64955458e-01, -9.88163348e-01, -1.62111948e+00, -3.25725777e-01,\n",
       "        1.16939407e+00, -1.92516224e-01,  3.98443863e-01,  4.37231098e-01,\n",
       "       -1.51227559e+00, -8.99374127e-01,  6.46418720e-03, -5.57354984e-01,\n",
       "        1.70445455e+00, -1.22832240e+00, -9.09260103e-01,  2.90544259e-01,\n",
       "       -6.27893338e-01, -2.89183260e+00,  1.93468123e+00, -1.07430539e+00,\n",
       "        5.60892723e-01, -1.25339117e+00, -8.63034907e-01, -1.62293300e+00,\n",
       "       -7.41193400e-01, -6.44281817e-01, -1.32565677e-01, -3.72568842e-01,\n",
       "       -1.44151983e+00, -5.23899828e-01,  1.44701067e+00,  1.32839055e+00,\n",
       "        4.55687029e-01,  6.63099247e-01,  2.06082280e+00,  5.71247660e-01,\n",
       "        6.44189861e-01, -1.56458303e+00, -1.11263056e+00, -3.26903170e-02,\n",
       "       -8.07442225e-01, -9.97955287e-01, -8.82459048e-01, -1.42357064e+00,\n",
       "       -7.91384486e-01,  3.39435555e-01,  1.79632393e+00,  7.96982183e-01])"
      ]
     },
     "execution_count": 43,
     "metadata": {},
     "output_type": "execute_result"
    }
   ],
   "source": [
    "# Normal (μ=0, σ=1)\n",
    "# --- 2. Standard Normal Distribution ---\n",
    "# Generate 1000 numbers from a \"standard normal\" distribution.\n",
    "# This is the famous \"bell curve\" where:\n",
    "# - Most numbers are clustered around the mean (μ=0).\n",
    "# - The spread is defined by the standard deviation (σ=1).\n",
    "# This is useful for simulating natural phenomena like heights, weights, or measurement errors.\n",
    "b = np.random.randn(1000)\n",
    "b"
   ]
  },
  {
   "cell_type": "code",
   "execution_count": 45,
   "metadata": {
    "scrolled": true
   },
   "outputs": [
    {
     "data": {
      "image/png": "[encoded data removed]",
      "text/plain": [
       "<Figure size 640x480 with 1 Axes>"
      ]
     },
     "metadata": {},
     "output_type": "display_data"
    }
   ],
   "source": [
    "# If you were to plot this, you would see a classic bell curve.\n",
    "# import matplotlib.pyplot as plt\n",
    "plt.hist(b, bins=30)\n",
    "plt.show()"
   ]
  },
  {
   "cell_type": "code",
   "execution_count": 39,
   "metadata": {},
   "outputs": [
    {
     "name": "stdout",
     "output_type": "stream",
     "text": [
      "[2 6 2 2 5 5 5 4 2 3]\n"
     ]
    }
   ],
   "source": [
    "# Random integers (half-open interval)\n",
    "dice = np.random.randint(1, 7, size=10)  # 10 dice rolls\n",
    "print(dice)"
   ]
  },
  {
   "cell_type": "code",
   "execution_count": 47,
   "metadata": {},
   "outputs": [
    {
     "name": "stdout",
     "output_type": "stream",
     "text": [
      "Weighted Choices: ['C' 'A' 'A' 'B' 'B' 'C' 'C' 'A' 'A' 'A' 'B' 'C' 'A' 'A' 'A' 'C' 'A' 'A'\n",
      " 'B' 'C']\n"
     ]
    }
   ],
   "source": [
    "# --- 4. Choice with Probabilities ---\n",
    "# Make a random choice from a list, but with a weighted probability.\n",
    "# This is like a loaded die. 'A' is more likely to be chosen than 'B', which is more likely than 'C'.\n",
    "# The 'p' argument must be a list of probabilities that sum to 1.0.\n",
    "# Here, we generate 20 such choices.\n",
    "choices = ['A', 'B', 'C']\n",
    "probabilities = [0.5, 0.3, 0.2]  # 50% chance for A, 30% for B, 20% for C\n",
    "weighted_choices = np.random.choice(choices, size=20, p=probabilities)\n",
    "print(\"Weighted Choices:\", weighted_choices)"
   ]
  },
  {
   "cell_type": "markdown",
   "metadata": {},
   "source": [
    "## 3. Indexing & slicing – the power of views"
   ]
  },
  {
   "cell_type": "code",
   "execution_count": 6,
   "metadata": {},
   "outputs": [],
   "source": [
    "arr2d = np.arange(1, 13).reshape(3, 4)  # 3×4 matrix\n",
    "\n",
    "# Single element\n",
    "arr2d[1, 2]      # row 1, column 2  → 7\n",
    "\n",
    "# Entire rows / columns\n",
    "row1 = arr2d[1, :]   # or arr2d[1]\n",
    "col0 = arr2d[:, 0]\n",
    "\n",
    "# Sub-matrix\n",
    "sub = arr2d[0:2, 1:3]  # top-right 2×2 block\n",
    "\n",
    "# ⚠️ Views vs copies\n",
    "sub[:] = 99            # modifies original arr2d!\n",
    "copy = arr2d[0:2, 1:3].copy()  # independent copy"
   ]
  },
  {
   "cell_type": "markdown",
   "metadata": {},
   "source": [
    "## 4. Boolean indexing – filtering without loops"
   ]
  },
  {
   "cell_type": "code",
   "execution_count": 63,
   "metadata": {},
   "outputs": [
    {
     "name": "stdout",
     "output_type": "stream",
     "text": [
      "Original data: [3.5 1.2 9.8 4.4 2.1]\n",
      "\n",
      "Boolean mask (data > 3.0): [ True False  True  True False]\n",
      "Filtered data (where mask is True): [3.5 9.8 4.4]\n",
      "\n",
      "Filtered data (one-line version): [3.5 9.8 4.4]\n",
      "\n",
      "Combined mask (data > 2.0 AND data < 5.0): [ True False False  True  True]\n",
      "Data after marking values with np.nan: [nan 1.2 9.8 nan nan]\n"
     ]
    }
   ],
   "source": [
    "import numpy as np\n",
    "\n",
    "def demonstrate_boolean_indexing():\n",
    "    \"\"\"\n",
    "    Demonstrates the core concepts of NumPy boolean indexing.\n",
    "    This includes creating a mask, applying it to filter data,\n",
    "    combining masks, and modifying data in-place.\n",
    "    \"\"\"\n",
    "    # --- 1. Our starting data ---\n",
    "    # A simple NumPy array of floating-point numbers.\n",
    "    data = np.array([3.5, 1.2, 9.8, 4.4, 2.1])\n",
    "    print(f\"Original data: {data}\\n\")\n",
    "\n",
    "    # --- 2. Creating a Boolean Mask ---\n",
    "    # We create a condition: data > 3.0.\n",
    "    # NumPy evaluates this for each element and returns a new array\n",
    "    # of True/False values. This is our \"mask\".\n",
    "    # The mask itself is NOT the filtered data, it's the filter's blueprint.\n",
    "    mask = data > 3.0\n",
    "    print(f\"Boolean mask (data > 3.0): {mask}\")\n",
    "\n",
    "    # --- 3. Applying the Mask to Filter Data ---\n",
    "    # We pass the boolean mask as an index to the original data array.\n",
    "    # NumPy returns a NEW array containing only the elements from `data`\n",
    "    # where the corresponding value in `mask` was True.\n",
    "    filtered = data[mask]\n",
    "    print(f\"Filtered data (where mask is True): {filtered}\\n\")\n",
    "\n",
    "    # --- 4. The One-Line Shortcut ---\n",
    "    # This is the more common, concise way to perform the operation.\n",
    "    # The mask is created and applied in a single, readable line.\n",
    "    filtered2 = data[data > 3.0]\n",
    "    print(f\"Filtered data (one-line version): {filtered2}\\n\")\n",
    "\n",
    "    # --- 5. Combining Masks with AND (&) ---\n",
    "    # To filter on multiple conditions, we combine masks.\n",
    "    # Use '&' for 'AND' and '|' for 'OR'.\n",
    "    # IMPORTANT: Each condition must be in parentheses () due to Python's operator precedence.\n",
    "    mask2 = (data > 2.0) & (data < 5.0)\n",
    "    print(f\"Combined mask (data > 2.0 AND data < 5.0): {mask2}\")\n",
    "\n",
    "    # --- 6. Modifying Data In-Place ---\n",
    "    # Instead of creating a new array, we can use a mask to change\n",
    "    # values in the original array. Here, we replace values that meet\n",
    "    # the condition with np.nan (Not a Number), a standard placeholder\n",
    "    # for missing data.\n",
    "    # NOTE: This modifies the `data` array directly!\n",
    "    data[mask2] = np.nan\n",
    "    print(f\"Data after marking values with np.nan: {data}\")\n",
    "\n",
    "# To run the demonstration, you would call the function:\n",
    "demonstrate_boolean_indexing()"
   ]
  },
  {
   "cell_type": "markdown",
   "metadata": {},
   "source": [
    "## 5. Universal functions (ufuncs) – fast element-wise maths"
   ]
  },
  {
   "cell_type": "code",
   "execution_count": 8,
   "metadata": {},
   "outputs": [
    {
     "name": "stdout",
     "output_type": "stream",
     "text": [
      "[11 22 33 44 55] [ 10  40  90 160 250] [ 1  4  9 16 25] [1.         0.5        0.33333333 0.25       0.2       ]\n"
     ]
    }
   ],
   "source": [
    "x = np.linspace(0, 2*np.pi, 1000)\n",
    "y = np.sin(x)              # vectorised, C-speed, no Python loop\n",
    "\n",
    "# Arithmetic\n",
    "a = np.arange(1, 6)        # [1 2 3 4 5]\n",
    "b = np.array([10, 20, 30, 40, 50])\n",
    "print(a + b, a * b, a ** 2, 1/a)"
   ]
  },
  {
   "cell_type": "markdown",
   "metadata": {},
   "source": [
    "## 6. Aggregations – one number to rule them all"
   ]
  },
  {
   "cell_type": "code",
   "execution_count": null,
   "metadata": {},
   "outputs": [],
   "source": [
    "big = np.random.randn(1_000_000)\n",
    "\n",
    "# Whole array\n",
    "print(f\"mean={big.mean():.3f}, std={big.std():.3f}\")\n",
    "\n",
    "# Along axes (rows / columns)\n",
    "mat = big.reshape(10_000, 100)\n",
    "row_means = mat.mean(axis=1)   # shape (10000,)\n",
    "col_std   = mat.std(axis=0)    # shape (100,)\n",
    "\n",
    "# ⚠️ NaN aware versions exist\n",
    "safe_mean = np.nanmean(mat)    # ignores NaNs"
   ]
  },
  {
   "cell_type": "markdown",
   "metadata": {},
   "source": [
    "## 7. Real-world mini-patterns"
   ]
  },
  {
   "cell_type": "markdown",
   "metadata": {},
   "source": [
    "### 7.1 Physical units – keep track of metres vs millimetres"
   ]
  },
  {
   "cell_type": "code",
   "execution_count": 59,
   "metadata": {},
   "outputs": [
    {
     "name": "stdout",
     "output_type": "stream",
     "text": [
      "[0.0012 0.0015 0.002  0.0022]\n"
     ]
    }
   ],
   "source": [
    "def mm_to_m(x):\n",
    "    \"\"\"Convert millimetres to metres.\"\"\"\n",
    "    return x * 1e-3\n",
    "\n",
    "thickness_mm = np.array([1.2, 1.5, 2.0, 2.2])\n",
    "thickness_m  = mm_to_m(thickness_mm)\n",
    "\n",
    "# Compute volume for 1 m² sheet\n",
    "volume = 1 * thickness_m  # m³\n",
    "print(volume)"
   ]
  },
  {
   "cell_type": "markdown",
   "metadata": {},
   "source": [
    "### 7.2 Masked arrays – ignore bad sensors"
   ]
  },
  {
   "cell_type": "code",
   "execution_count": null,
   "metadata": {},
   "outputs": [],
   "source": [
    "temp = np.array([23.1, 24.5, -999, 22.8, 25.0])  # -999 == broken sensor\n",
    "\n",
    "masked = np.ma.masked_values(temp, -999)         # create masked array\n",
    "print(\"Average (ignoring bad):\", masked.mean())"
   ]
  },
  {
   "cell_type": "markdown",
   "metadata": {},
   "source": [
    "### 7.3 Quick timing – how much faster is NumPy?"
   ]
  },
  {
   "cell_type": "code",
   "execution_count": 58,
   "metadata": {},
   "outputs": [
    {
     "name": "stderr",
     "output_type": "stream",
     "text": [
      "UsageError: Line magic function `%%timeit` not found.\n"
     ]
    }
   ],
   "source": [
    "n = 1_000_000\n",
    "a = np.random.rand(n)\n",
    "b = np.random.rand(n)\n",
    "\n",
    "# Python loop\n",
    "%%timeit\n",
    "py_sum = 0\n",
    "for i in range(n):\n",
    "    py_sum += a[i] * b[i]\n",
    "\n",
    "# NumPy\n",
    "%%timeit\n",
    "np_sum = np.dot(a, b)  # or (a * b).sum()"
   ]
  },
  {
   "cell_type": "markdown",
   "metadata": {},
   "source": [
    "## 8. Saving & loading – because you will forget"
   ]
  },
  {
   "cell_type": "code",
   "execution_count": null,
   "metadata": {},
   "outputs": [],
   "source": [
    "data = np.random.rand(100, 3)  # 100 measurements, 3 channels\n",
    "\n",
    "# Binary (fast, small)\n",
    "np.save('experiment.npy', data)\n",
    "loaded = np.load('experiment.npy')\n",
    "\n",
    "# Text (human readable)\n",
    "np.savetxt('experiment.csv', data, delimiter=',', header='ch1,ch2,ch3')\n",
    "loaded_txt = np.loadtxt('experiment.csv', delimiter=',', skiprows=1)"
   ]
  },
  {
   "cell_type": "markdown",
   "metadata": {},
   "source": [
    "## 9. 📌 Cheat-sheet table (copy into your notes)"
   ]
  },
  {
   "cell_type": "markdown",
   "metadata": {},
   "source": [
    "| Task | One-liner |\n",
    "|---|---|\n",
    "| Create 1-D range | `np.arange(start, stop, step)` |\n",
    "| Create N×M zeros | `np.zeros((N, M))` |\n",
    "| Random normal | `np.random.randn(N, M)` |\n",
    "| Element-wise square | `arr**2` |\n",
    "| Row means | `mat.mean(axis=1)` |\n",
    "| Filter | `arr[arr > x]` |\n",
    "| Save binary | `np.save('file.npy', arr)` |\n",
    "| Load text | `np.loadtxt('file.csv', delimiter=',')` |"
   ]
  },
  {
   "cell_type": "markdown",
   "metadata": {},
   "source": [
    "## 10. Where next?\n",
    "- SciPy (`scipy.constants`, `scipy.optimize`, `scipy.stats`)  \n",
    "- pandas (labelled tables)  \n",
    "- Matplotlib / Seaborn (publication plots)  \n",
    "- Install via conda-forge:  \n",
    "  ```bash\n",
    "  conda install -c conda-forge numpy scipy pandas matplotlib\n",
    "  ```"
   ]
  }
 ],
 "metadata": {
  "kernelspec": {
   "display_name": "Python 3 (ipykernel)",
   "language": "python",
   "name": "python3"
  },
  "language_info": {
   "codemirror_mode": {
    "name": "ipython",
    "version": 3
   },
   "file_extension": ".py",
   "mimetype": "text/x-python",
   "name": "python",
   "nbconvert_exporter": "python",
   "pygments_lexer": "ipython3",
   "version": "3.12.9"
  }
 },
 "nbformat": 4,
 "nbformat_minor": 4
}
